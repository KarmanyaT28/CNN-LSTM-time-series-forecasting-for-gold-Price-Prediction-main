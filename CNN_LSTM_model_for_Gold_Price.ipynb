{
  "nbformat": 4,
  "nbformat_minor": 0,
  "metadata": {
    "interpreter": {
      "hash": "f87398b2de8e90719949ed00c7b022e62357d5ca27b768fb93eb54116fa5b864"
    },
    "kernelspec": {
      "name": "python3",
      "display_name": "Python 3.7.10 64-bit ('CNN-LSTM_gold_price-o7kuqWqa': pipenv)"
    },
    "language_info": {
      "codemirror_mode": {
        "name": "ipython",
        "version": 3
      },
      "file_extension": ".py",
      "mimetype": "text/x-python",
      "name": "python",
      "nbconvert_exporter": "python",
      "pygments_lexer": "ipython3",
      "version": "3.7.10"
    },
    "colab": {
      "name": "CNN-LSTM model for Gold Price",
      "provenance": [],
      "collapsed_sections": []
    }
  },
  "cells": [
    {
      "cell_type": "code",
      "metadata": {
        "id": "92xYjTYft-Ks"
      },
      "source": [
        "import numpy as np\n",
        "import pandas as pd\n",
        "\n",
        "from sklearn.svm import SVR\n",
        "from sklearn.preprocessing import MinMaxScaler\n",
        "from sklearn.metrics import mean_absolute_error, mean_squared_error, roc_curve, auc\n",
        "\n",
        "import tensorflow as tf\n",
        "from tensorflow.keras.optimizers import Adam\n",
        "from tensorflow.keras.models import Sequential\n",
        "from tensorflow.keras.layers import Dense, LSTM, Conv1D, MaxPooling1D, InputLayer\n",
        "from tensorflow.keras.wrappers.scikit_learn import KerasClassifier\n",
        "\n",
        "import matplotlib.pyplot as plt"
      ],
      "execution_count": null,
      "outputs": []
    },
    {
      "cell_type": "markdown",
      "metadata": {
        "id": "CMyXOyw9ankY"
      },
      "source": [
        "## Reading the Dataset"
      ]
    },
    {
      "cell_type": "code",
      "metadata": {
        "id": "qdjRYQQft-Kv",
        "colab": {
          "base_uri": "https://localhost:8080/",
          "height": 362
        },
        "outputId": "115e123b-6db8-4bd7-cc61-77e170f9b4ff"
      },
      "source": [
        "# Reading the dataset\n",
        "data_csv = \"/content/dataset.csv\"\n",
        "df = pd.read_csv(data_csv)\n",
        "print('Dataset shape: ', df.shape)\n",
        "print(df.dtypes)\n",
        "df.head()"
      ],
      "execution_count": null,
      "outputs": [
        {
          "output_type": "stream",
          "name": "stdout",
          "text": [
            "Dataset shape:  (1089, 7)\n",
            "Date          object\n",
            "Open         float64\n",
            "High         float64\n",
            "Low          float64\n",
            "Close        float64\n",
            "Adj Close    float64\n",
            "Volume       float64\n",
            "dtype: object\n"
          ]
        },
        {
          "output_type": "execute_result",
          "data": {
            "text/html": [
              "<div>\n",
              "<style scoped>\n",
              "    .dataframe tbody tr th:only-of-type {\n",
              "        vertical-align: middle;\n",
              "    }\n",
              "\n",
              "    .dataframe tbody tr th {\n",
              "        vertical-align: top;\n",
              "    }\n",
              "\n",
              "    .dataframe thead th {\n",
              "        text-align: right;\n",
              "    }\n",
              "</style>\n",
              "<table border=\"1\" class=\"dataframe\">\n",
              "  <thead>\n",
              "    <tr style=\"text-align: right;\">\n",
              "      <th></th>\n",
              "      <th>Date</th>\n",
              "      <th>Open</th>\n",
              "      <th>High</th>\n",
              "      <th>Low</th>\n",
              "      <th>Close</th>\n",
              "      <th>Adj Close</th>\n",
              "      <th>Volume</th>\n",
              "    </tr>\n",
              "  </thead>\n",
              "  <tbody>\n",
              "    <tr>\n",
              "      <th>0</th>\n",
              "      <td>2013-12-31</td>\n",
              "      <td>1196.400024</td>\n",
              "      <td>1212.400024</td>\n",
              "      <td>1182.000000</td>\n",
              "      <td>1201.900024</td>\n",
              "      <td>1201.900024</td>\n",
              "      <td>124.0</td>\n",
              "    </tr>\n",
              "    <tr>\n",
              "      <th>1</th>\n",
              "      <td>2014-01-02</td>\n",
              "      <td>1204.300049</td>\n",
              "      <td>1227.300049</td>\n",
              "      <td>1204.300049</td>\n",
              "      <td>1225.000000</td>\n",
              "      <td>1225.000000</td>\n",
              "      <td>209.0</td>\n",
              "    </tr>\n",
              "    <tr>\n",
              "      <th>2</th>\n",
              "      <td>2014-01-03</td>\n",
              "      <td>1221.699951</td>\n",
              "      <td>1239.000000</td>\n",
              "      <td>1221.699951</td>\n",
              "      <td>1238.400024</td>\n",
              "      <td>1238.400024</td>\n",
              "      <td>142.0</td>\n",
              "    </tr>\n",
              "    <tr>\n",
              "      <th>3</th>\n",
              "      <td>2014-01-06</td>\n",
              "      <td>1232.800049</td>\n",
              "      <td>1247.000000</td>\n",
              "      <td>1221.900024</td>\n",
              "      <td>1237.800049</td>\n",
              "      <td>1237.800049</td>\n",
              "      <td>127.0</td>\n",
              "    </tr>\n",
              "    <tr>\n",
              "      <th>4</th>\n",
              "      <td>2014-01-07</td>\n",
              "      <td>1239.300049</td>\n",
              "      <td>1242.400024</td>\n",
              "      <td>1226.300049</td>\n",
              "      <td>1229.400024</td>\n",
              "      <td>1229.400024</td>\n",
              "      <td>73.0</td>\n",
              "    </tr>\n",
              "  </tbody>\n",
              "</table>\n",
              "</div>"
            ],
            "text/plain": [
              "         Date         Open         High  ...        Close    Adj Close  Volume\n",
              "0  2013-12-31  1196.400024  1212.400024  ...  1201.900024  1201.900024   124.0\n",
              "1  2014-01-02  1204.300049  1227.300049  ...  1225.000000  1225.000000   209.0\n",
              "2  2014-01-03  1221.699951  1239.000000  ...  1238.400024  1238.400024   142.0\n",
              "3  2014-01-06  1232.800049  1247.000000  ...  1237.800049  1237.800049   127.0\n",
              "4  2014-01-07  1239.300049  1242.400024  ...  1229.400024  1229.400024    73.0\n",
              "\n",
              "[5 rows x 7 columns]"
            ]
          },
          "metadata": {},
          "execution_count": 42
        }
      ]
    },
    {
      "cell_type": "markdown",
      "metadata": {
        "id": "o3wBSImUasd2"
      },
      "source": [
        "## Preprocessing"
      ]
    },
    {
      "cell_type": "code",
      "metadata": {
        "id": "CKiveFibt-Kw",
        "colab": {
          "base_uri": "https://localhost:8080/"
        },
        "outputId": "4a6f7ba5-c509-498f-8828-a31426bc1d7f"
      },
      "source": [
        "# Verifying null values and deleting name from dataset\n",
        "null_columns=df.columns[df.isnull().any()]\n",
        "print(df[df.isnull().any(axis=1)][null_columns].head())\n",
        "# Drop the lines with null values\n",
        "df = df.dropna()\n",
        "# Drop Date column\n",
        "# df.pop(\"Date\")\n",
        "\n",
        "print('Dataset shape: ', df.shape)"
      ],
      "execution_count": null,
      "outputs": [
        {
          "output_type": "stream",
          "name": "stdout",
          "text": [
            "     Open  High  Low  Close  Adj Close  Volume\n",
            "127   NaN   NaN  NaN    NaN        NaN     NaN\n",
            "230   NaN   NaN  NaN    NaN        NaN     NaN\n",
            "248   NaN   NaN  NaN    NaN        NaN     NaN\n",
            "515   NaN   NaN  NaN    NaN        NaN     NaN\n",
            "535   NaN   NaN  NaN    NaN        NaN     NaN\n",
            "Dataset shape:  (1081, 7)\n"
          ]
        }
      ]
    },
    {
      "cell_type": "code",
      "metadata": {
        "colab": {
          "base_uri": "https://localhost:8080/",
          "height": 300
        },
        "id": "oaE7zliQhh-z",
        "outputId": "5ec68944-ba63-4d9c-eaf9-18c8bc311209"
      },
      "source": [
        "df.describe()"
      ],
      "execution_count": null,
      "outputs": [
        {
          "output_type": "execute_result",
          "data": {
            "text/html": [
              "<div>\n",
              "<style scoped>\n",
              "    .dataframe tbody tr th:only-of-type {\n",
              "        vertical-align: middle;\n",
              "    }\n",
              "\n",
              "    .dataframe tbody tr th {\n",
              "        vertical-align: top;\n",
              "    }\n",
              "\n",
              "    .dataframe thead th {\n",
              "        text-align: right;\n",
              "    }\n",
              "</style>\n",
              "<table border=\"1\" class=\"dataframe\">\n",
              "  <thead>\n",
              "    <tr style=\"text-align: right;\">\n",
              "      <th></th>\n",
              "      <th>Open</th>\n",
              "      <th>High</th>\n",
              "      <th>Low</th>\n",
              "      <th>Close</th>\n",
              "      <th>Adj Close</th>\n",
              "      <th>Volume</th>\n",
              "    </tr>\n",
              "  </thead>\n",
              "  <tbody>\n",
              "    <tr>\n",
              "      <th>count</th>\n",
              "      <td>1081.000000</td>\n",
              "      <td>1081.000000</td>\n",
              "      <td>1081.000000</td>\n",
              "      <td>1081.000000</td>\n",
              "      <td>1081.000000</td>\n",
              "      <td>1081.000000</td>\n",
              "    </tr>\n",
              "    <tr>\n",
              "      <th>mean</th>\n",
              "      <td>1239.990935</td>\n",
              "      <td>1245.948751</td>\n",
              "      <td>1234.181223</td>\n",
              "      <td>1240.121092</td>\n",
              "      <td>1240.121092</td>\n",
              "      <td>5710.888992</td>\n",
              "    </tr>\n",
              "    <tr>\n",
              "      <th>std</th>\n",
              "      <td>72.099380</td>\n",
              "      <td>71.958409</td>\n",
              "      <td>72.366352</td>\n",
              "      <td>72.285649</td>\n",
              "      <td>72.285649</td>\n",
              "      <td>30312.863258</td>\n",
              "    </tr>\n",
              "    <tr>\n",
              "      <th>min</th>\n",
              "      <td>1053.699951</td>\n",
              "      <td>1062.000000</td>\n",
              "      <td>1046.199951</td>\n",
              "      <td>1050.800049</td>\n",
              "      <td>1050.800049</td>\n",
              "      <td>0.000000</td>\n",
              "    </tr>\n",
              "    <tr>\n",
              "      <th>25%</th>\n",
              "      <td>1196.199951</td>\n",
              "      <td>1202.500000</td>\n",
              "      <td>1188.000000</td>\n",
              "      <td>1195.599976</td>\n",
              "      <td>1195.599976</td>\n",
              "      <td>41.000000</td>\n",
              "    </tr>\n",
              "    <tr>\n",
              "      <th>50%</th>\n",
              "      <td>1251.000000</td>\n",
              "      <td>1256.000000</td>\n",
              "      <td>1244.800049</td>\n",
              "      <td>1250.800049</td>\n",
              "      <td>1250.800049</td>\n",
              "      <td>138.000000</td>\n",
              "    </tr>\n",
              "    <tr>\n",
              "      <th>75%</th>\n",
              "      <td>1293.400024</td>\n",
              "      <td>1299.800049</td>\n",
              "      <td>1288.000000</td>\n",
              "      <td>1294.199951</td>\n",
              "      <td>1294.199951</td>\n",
              "      <td>415.000000</td>\n",
              "    </tr>\n",
              "    <tr>\n",
              "      <th>max</th>\n",
              "      <td>1386.099976</td>\n",
              "      <td>1391.400024</td>\n",
              "      <td>1372.199951</td>\n",
              "      <td>1379.000000</td>\n",
              "      <td>1379.000000</td>\n",
              "      <td>290889.000000</td>\n",
              "    </tr>\n",
              "  </tbody>\n",
              "</table>\n",
              "</div>"
            ],
            "text/plain": [
              "              Open         High  ...    Adj Close         Volume\n",
              "count  1081.000000  1081.000000  ...  1081.000000    1081.000000\n",
              "mean   1239.990935  1245.948751  ...  1240.121092    5710.888992\n",
              "std      72.099380    71.958409  ...    72.285649   30312.863258\n",
              "min    1053.699951  1062.000000  ...  1050.800049       0.000000\n",
              "25%    1196.199951  1202.500000  ...  1195.599976      41.000000\n",
              "50%    1251.000000  1256.000000  ...  1250.800049     138.000000\n",
              "75%    1293.400024  1299.800049  ...  1294.199951     415.000000\n",
              "max    1386.099976  1391.400024  ...  1379.000000  290889.000000\n",
              "\n",
              "[8 rows x 6 columns]"
            ]
          },
          "metadata": {},
          "execution_count": 44
        }
      ]
    },
    {
      "cell_type": "code",
      "metadata": {
        "id": "HFxI1LjHt-Kx",
        "colab": {
          "base_uri": "https://localhost:8080/"
        },
        "outputId": "64b00314-4a7f-4a36-c7ec-75aead05417c"
      },
      "source": [
        "print(\"Minimum: {}\\nMaximum: {}\\nMean: {}\\nMedian: {}\\nSD: {}\\nSkewness: {}\\nKurtosis: {}\".format(df[\"Low\"].min(), df[\"High\"].max(), \n",
        "df[\"Open\"].mean(), df[\"Open\"].median(), df[\"Open\"].std(), df[\"Open\"].skew(), df[\"Open\"].kurtosis()))"
      ],
      "execution_count": null,
      "outputs": [
        {
          "output_type": "stream",
          "name": "stdout",
          "text": [
            "Minimum: 1046.199951\n",
            "Maximum: 1391.400024\n",
            "Mean: 1239.9909346142476\n",
            "Median: 1251.0\n",
            "SD: 72.09937994027125\n",
            "Skewness: -0.5455305158449637\n",
            "Kurtosis: -0.3520037164214358\n"
          ]
        }
      ]
    },
    {
      "cell_type": "code",
      "metadata": {
        "id": "x8r2P7-st-Kx",
        "colab": {
          "base_uri": "https://localhost:8080/",
          "height": 282
        },
        "outputId": "637c2385-e2f4-45cd-e479-91496441fc97"
      },
      "source": [
        "lastday_2017 = df.loc[df[\"Date\"]==\"2017-12-29\"].index.values[0]\n",
        "df = df[\"Open\"].values\n",
        "\n",
        "\n",
        "plt.figure()\n",
        "plt.plot(df/10)\n",
        "plt.xlabel(\"Days\")\n",
        "plt.ylabel(\"Price (*10^-1)\")\n",
        "plt.grid()\n",
        "plt.show()"
      ],
      "execution_count": null,
      "outputs": [
        {
          "output_type": "display_data",
          "data": {
            "image/png": "[encoded data removed]",
            "text/plain": [
              "<Figure size 432x288 with 1 Axes>"
            ]
          },
          "metadata": {
            "needs_background": "light"
          }
        }
      ]
    },
    {
      "cell_type": "markdown",
      "metadata": {
        "id": "S3RLcvdmaxJF"
      },
      "source": [
        "## Normalizing\n",
        "for homogenizing the variability and stability of the patterns and reducing exponential trend."
      ]
    },
    {
      "cell_type": "code",
      "metadata": {
        "id": "aAQuUju3t-Ky",
        "colab": {
          "base_uri": "https://localhost:8080/"
        },
        "outputId": "49a85299-dc2a-403b-bd1c-31cce821d1a4"
      },
      "source": [
        "# Transforming the dataset to ln scale\n",
        "df = np.log(df)\n",
        "\n",
        "# # Split dataset into train and test\n",
        "train_set = df[0:lastday_2017]\n",
        "test_set = df[lastday_2017:]\n",
        "print(\"Train: \", train_set.shape, \"Test: \", test_set.shape)\n",
        "lastday_2017"
      ],
      "execution_count": null,
      "outputs": [
        {
          "output_type": "stream",
          "name": "stdout",
          "text": [
            "Train:  (1007,) Test:  (74,)\n"
          ]
        },
        {
          "output_type": "execute_result",
          "data": {
            "text/plain": [
              "1007"
            ]
          },
          "metadata": {},
          "execution_count": 47
        }
      ]
    },
    {
      "cell_type": "code",
      "metadata": {
        "id": "ywhAxSYOt-Ky",
        "colab": {
          "base_uri": "https://localhost:8080/"
        },
        "outputId": "247a4124-880f-45b4-dc84-542c4ae3a787"
      },
      "source": [
        "print(train_set)"
      ],
      "execution_count": null,
      "outputs": [
        {
          "output_type": "stream",
          "name": "stdout",
          "text": [
            "[7.08707235 7.0936538  7.10799857 ... 7.1856143  7.18531127 7.17747701]\n"
          ]
        }
      ]
    },
    {
      "cell_type": "code",
      "metadata": {
        "id": "Jhw5awIrcn0C",
        "colab": {
          "base_uri": "https://localhost:8080/"
        },
        "outputId": "5f96b939-7b02-49ba-b301-db893f9f8a7b"
      },
      "source": [
        "print(test_set)"
      ],
      "execution_count": null,
      "outputs": [
        {
          "output_type": "stream",
          "name": "stdout",
          "text": [
            "[7.1856143  7.18318761 7.19127875 7.19376093 7.19623705 7.19210683\n",
            " 7.19300939 7.19173051 7.19728568 7.21222074 7.21251572 7.20904434\n",
            " 7.19945424 7.19855748 7.20325674 7.20674814 7.19376093 7.19908067\n",
            " 7.1894696  7.18318761 7.18606862 7.1882617  7.18879031 7.19503731\n",
            " 7.20934026 7.21081845 7.206674   7.19052534 7.18690102 7.19142933\n",
            " 7.19668657 7.19421156 7.1818961  7.17808773 7.18105952 7.18803502\n",
            " 7.18659838 7.19900596 7.18901682 7.18295987 7.18493238 7.18984677\n",
            " 7.18705226 7.18295987 7.17785873 7.17732431 7.17862174 7.17961282\n",
            " 7.19037454 7.20281007 7.20674814 7.20117088 7.20414929 7.18841274\n",
            " 7.19067603 7.20072337 7.19428673 7.19556234 7.19029917 7.19518732\n",
            " 7.19683634 7.2004995  7.20874833 7.19736052 7.20117088 7.20637729\n",
            " 7.20303343 7.20682228 7.20228883 7.19593723 7.1902238  7.18841274\n",
            " 7.18212409 7.18182009]\n"
          ]
        }
      ]
    },
    {
      "cell_type": "markdown",
      "metadata": {
        "id": "yMlPzpDot-Kz"
      },
      "source": [
        "## Labels of an LSTM network\n",
        "the LSTM network needs to predict the next day gold price closing value, this way a matrix of 2 dimensions will suffice for this problem."
      ]
    },
    {
      "cell_type": "markdown",
      "metadata": {
        "id": "xIe_sbryt-K1"
      },
      "source": [
        "# Regression models"
      ]
    },
    {
      "cell_type": "markdown",
      "metadata": {
        "id": "AqK7SUkPdeK_"
      },
      "source": [
        "### Forward Feed Neural Network (FFNN)\n",
        "1 hidden layer with 3, 3 and 5 neurons for F = 4; 6 and 9, respectively"
      ]
    },
    {
      "cell_type": "code",
      "metadata": {
        "id": "Dcym40iRt-K1"
      },
      "source": [
        "# FFNN class\n",
        "class FFNN:\n",
        "    def __init__(self, input_dim, scaler=None):\n",
        "        self.scaler = scaler \n",
        "        optimizer = Adam() ## ADAM optimizer\n",
        "        ## if input dimension == 4 then hidden nodes = 3\n",
        "        ## else if input dimension == 6 then hidden nodes =5\n",
        "        h_n = 3 if input_dim == 4 or input_dim == 6 else 5\n",
        "        self.model = Sequential() ## sequetial model\n",
        "        self.model.add(Dense(h_n, input_dim=input_dim)) \n",
        "        self.model.add(Dense(1)) ## 1 dense layer\n",
        "        ## metrics used: mse, accuracy, mae\n",
        "        self.model.compile(loss=\"mean_squared_error\", optimizer=optimizer, metrics=[\"accuracy\", \"mean_absolute_error\"])\n",
        "    \n",
        "    def fit(self,x_train,y_train):\n",
        "        if self.scaler:\n",
        "            ## splitting into x and y\n",
        "            x_train = self.scaler.transform(x_train)\n",
        "            y_train = self.scaler.transform(y_train)\n",
        "\n",
        "        ## fitting the model\n",
        "        self.model.fit(x_train, y_train,verbose=0)\n",
        "\n",
        "    ## predict function\n",
        "    def predict(self, x_test):\n",
        "        if self.scaler:\n",
        "            x_test = self.scaler.transform(x_test)\n",
        "            \n",
        "        y_valid_pred = self.model.predict(x_test)\n",
        "        \n",
        "        if self.scaler:\n",
        "            y_valid_pred = self.scaler.transform(y_valid_pred)\n",
        "\n",
        "        return y_valid_pred.flatten()"
      ],
      "execution_count": null,
      "outputs": []
    },
    {
      "cell_type": "markdown",
      "metadata": {
        "id": "6fEwEMIOhpU9"
      },
      "source": [
        "## LSTM Model"
      ]
    },
    {
      "cell_type": "markdown",
      "metadata": {
        "id": "l9Hx-Ujeh6sr"
      },
      "source": [
        "- LSTM1 \n",
        "  - LSTM layer with 100 units\n",
        "- LSTM2 \n",
        "  - LSTM layer with 200 units\n",
        "- LSTM3 \n",
        "  - LSTM layer with 100 units\n",
        "  - LSTM layer with 50 units\n",
        "- LSTM4 \n",
        "  - LSTM layer with 100 units\n",
        "  - LSTM layer with 100 units\n",
        "  - Fully connected layer with 32 neurons"
      ]
    },
    {
      "cell_type": "code",
      "metadata": {
        "id": "WCqubft9t-K2"
      },
      "source": [
        "# LSTM class\n",
        "class PLSTM:\n",
        "    def __init__(self, input_shape, model_type, scaler=None):\n",
        "        self.scaler = scaler \n",
        "        optimizer = Adam() ## Adam Optimizer\n",
        "        self.model = Sequential() ## Sequential Model\n",
        "        self.h_n1 = 100 if model_type in [1,3,4] else 200 ## Hidden Nodes\n",
        "        return_seq = True if model_type>2 else False\n",
        "        self.model.add(LSTM(units=self.h_n1, input_shape=(input_shape[1], 1), return_sequences=return_seq))\n",
        "        if model_type>2:\n",
        "            self.h_n2 = 50 if model_type == 3 else 100\n",
        "            self.model.add(LSTM(units=self.h_n2)) ## LSTM layer\n",
        "            if type==4:\n",
        "                self.model.add(Dense(32)) ## Dense layer 32\n",
        "        self.model.add(Dense(1)) ## Dense Layer 1\n",
        "        self.model.compile(loss=\"mean_squared_error\", optimizer=optimizer, metrics=[\"accuracy\", \"mean_absolute_error\"])\n",
        "    \n",
        "    def fit(self,x_train,y_train):\n",
        "        if self.scaler:\n",
        "            x_train = self.scaler.transform(x_train)\n",
        "            y_train = self.scaler.transform(y_train)\n",
        "\n",
        "        # reshape the entry as a 3D matrix with samples, timestamps and lastly features\n",
        "        # instead of only samples and features as usual.\n",
        "        x_train = np.reshape(x_train, (x_train.shape[0], x_train.shape[1], 1))\n",
        "        history = self.model.fit(x_train, y_train,epochs=50,batch_size=128,verbose=0)\n",
        "\n",
        "    def predict(self, x_test):\n",
        "        if self.scaler:\n",
        "            x_test = self.scaler.transform(x_test)\n",
        "            \n",
        "        x_test = np.reshape(x_test, (x_test.shape[0], x_test.shape[1], 1))\n",
        "        y_valid_pred = self.model.predict(x_test)\n",
        "        \n",
        "        if self.scaler:\n",
        "            y_valid_pred = self.scaler.transform(y_valid_pred)\n",
        "\n",
        "        return y_valid_pred.flatten()"
      ],
      "execution_count": null,
      "outputs": []
    },
    {
      "cell_type": "markdown",
      "metadata": {
        "id": "08ga1GLdhm2w"
      },
      "source": [
        "## CNN-LSTM Model"
      ]
    },
    {
      "cell_type": "markdown",
      "metadata": {
        "id": "7XY6z5rwiQWJ"
      },
      "source": [
        "- CNN–LSTM1 \n",
        "  - Convolutional layer with 32 filters of size (2,)\n",
        "  - Convolutional layer with 64 filters of size (2,)\n",
        "  - Max pooling layer with size (2,)\n",
        "  - LSTM layer with 100 units\n",
        "- CNN–LSTM2 \n",
        "  - Convolutional layer with 64 filters of size (2,)\n",
        "  - Convolutional layer with 128 filters of size (2,)\n",
        "  - Max pooling layer with size (2,)\n",
        "  - LSTM layer with 200 units\n",
        "  - Fully connected layer with 32 neurons"
      ]
    },
    {
      "cell_type": "markdown",
      "metadata": {
        "id": "hwQhuTr7ikrb"
      },
      "source": [
        "- Activation : relu\n",
        "- Convlulution 1D\n",
        "- MaxPooling Layer"
      ]
    },
    {
      "cell_type": "code",
      "metadata": {
        "id": "UIRJ_KYtt-K3"
      },
      "source": [
        "# CNN-LSTM class\n",
        "class CNNLSTM:\n",
        "    def __init__(self, input_shape, model_type, scaler=None):\n",
        "        self.scaler = scaler\n",
        "        optimizer = Adam()\n",
        "        self.model = Sequential()\n",
        "        self.h_n1 = 100 if model_type == 1 else 200\n",
        "        self.filter1 = 32 if model_type == 1 else 64\n",
        "        self.filter2 = 64 if model_type == 1 else 128\n",
        "        \n",
        "        self.model.add(Conv1D(self.filter1, 2,activation='relu',\n",
        "                       strides=1,\n",
        "                       padding='same',\n",
        "                       input_shape=(input_shape[1],\n",
        "                                   1)))\n",
        "\n",
        "        self.model.add(Conv1D(self.filter2, 2,\n",
        "                   activation='relu',\n",
        "                   strides=1,\n",
        "                   padding='same',\n",
        "                   input_shape=(input_shape[1],\n",
        "                                1)))\n",
        "\n",
        "        self.model.add(MaxPooling1D(pool_size=2, padding='valid'))\n",
        "        self.model.add(LSTM(units=self.h_n1, input_shape=(input_shape[1],1)))\n",
        "    \n",
        "        if type==2:\n",
        "            self.model.add(Dense(32))\n",
        "        self.model.add(Dense(1))\n",
        "        self.model.compile(loss=\"mean_squared_error\", optimizer=optimizer)\n",
        "    \n",
        "    def fit(self,x_train,y_train):\n",
        "        if self.scaler:\n",
        "            x_train = self.scaler.transform(x_train)\n",
        "            y_train = self.scaler.transform(y_train)\n",
        "            \n",
        "        # reshape the entry as a 3D matrix with samples, timestamps and lastly features\n",
        "        # instead of only samples and features as usual.\n",
        "        x_train = np.reshape(x_train, (x_train.shape[0], x_train.shape[1], 1))\n",
        "        \n",
        "        self.model.fit(x_train, y_train,\n",
        "                        epochs=50,\n",
        "                        batch_size=128,\n",
        "                        verbose=0\n",
        "                      )\n",
        "\n",
        "    def predict(self, x_test):\n",
        "        if self.scaler:\n",
        "            x_test = self.scaler.transform(x_test)\n",
        "            \n",
        "        x_test = np.reshape(x_test, (x_test.shape[0], x_test.shape[1], 1))\n",
        "        y_valid_pred = self.model.predict(x_test)\n",
        "        \n",
        "        if self.scaler:\n",
        "            y_valid_pred = self.scaler.transform(y_valid_pred)\n",
        "\n",
        "        return y_valid_pred.flatten()"
      ],
      "execution_count": null,
      "outputs": []
    },
    {
      "cell_type": "markdown",
      "metadata": {
        "id": "tU2anw2bhzcC"
      },
      "source": [
        ""
      ]
    },
    {
      "cell_type": "code",
      "metadata": {
        "id": "ixsT94Sst-K4"
      },
      "source": [
        "def create_models(entry_shape, scaler=None):\n",
        "    # SVR\n",
        "    svr = SVR(kernel='rbf', C=1, tol=1e-3)\n",
        "\n",
        "    # FFNN\n",
        "    ffnn = FFNN(entry_shape[1], scaler)\n",
        "\n",
        "    # LSTM1\n",
        "    lstm1 = PLSTM(entry_shape, 1, scaler)\n",
        "\n",
        "    # LSTM2\n",
        "    lstm2 = PLSTM(entry_shape, 2, scaler)\n",
        "\n",
        "    # LSTM3\n",
        "    lstm3 = PLSTM(entry_shape, 3, scaler)\n",
        "\n",
        "    # LSTM4\n",
        "    lstm4 = PLSTM(entry_shape, 4, scaler)\n",
        "\n",
        "    # CNN-LSTM1\n",
        "    cnnlstm1 = CNNLSTM(entry_shape, 1, scaler)\n",
        "\n",
        "    # CNN-LSTM2\n",
        "    cnnlstm2 = CNNLSTM(entry_shape, 2, scaler)\n",
        "\n",
        "    labels = [\"SVR\", \"FFNN\", \"LSTM1\", \"LSTM2\", \"LSTM3\", \"LSTM4\", \"CNN-LSTM1\", \"CNN-LSTM2\"]\n",
        "    models = [svr, ffnn, lstm1, lstm2, lstm3, lstm4, cnnlstm1, cnnlstm2]\n",
        "\n",
        "    return labels, models"
      ],
      "execution_count": null,
      "outputs": []
    },
    {
      "cell_type": "markdown",
      "metadata": {
        "id": "Z1LV-V2lt-K4"
      },
      "source": [
        "## Rolling window approach\n",
        "The paper states that in order to predict the next day gold price, the model uses the $n$ past days gold prince, where $n$ stands for the time horizon used. Thus to generate a dataset with this specifications, we will use a rolling window algorithm to generate a window of features to a window of labels ( with in this case is equal to 1). This rolling window procedure works as follows:\n",
        "\n",
        "Features: $[n1, n2, n3, n4, n5]$ -> Label $[n6]$"
      ]
    },
    {
      "cell_type": "markdown",
      "metadata": {
        "id": "LzUadvLWFrcY"
      },
      "source": [
        "Converts an array into a matrix with size (n_windows, window size)\n",
        "- col1   = 1:step:n - width + 1;\n",
        "- row1   = 0:width - 1;\n",
        "- index  = col1.' + row1;"
      ]
    },
    {
      "cell_type": "code",
      "metadata": {
        "id": "vyVWBYZJt-K4"
      },
      "source": [
        "def rolling_window_mtx(x, window_size):\n",
        "        \"\"\"Compute all overlapping (rolling) observation windows over a vector \n",
        "            and return a matrix\n",
        "\n",
        "        Args:\n",
        "            x           : observation vector that is supposed to be split into\n",
        "                          overlapping windows\n",
        "            window_size : the target window size\n",
        "\n",
        "        Returns:\n",
        "\n",
        "            Window matrix with all windows as rows. That is, if n_windows is the\n",
        "            number of windows, the result has dimensions:\n",
        "\n",
        "            (n_windows, window_size)\n",
        "\n",
        "        \"\"\"\n",
        "        if window_size < 1:\n",
        "            raise ValueError(\"`window_size` must be at least 1.\")\n",
        "        if window_size > x.shape[-1]:\n",
        "            raise ValueError(\"`window_size` is too long.\")\n",
        "\n",
        "        \n",
        "        shape = x.shape[:-1] + (x.shape[-1] - window_size + 1, window_size)\n",
        "        strides = x.strides + (x.strides[-1],)\n",
        "\n",
        "        return np.lib.stride_tricks.as_strided(x, shape=shape, strides=strides)"
      ],
      "execution_count": null,
      "outputs": []
    },
    {
      "cell_type": "code",
      "metadata": {
        "id": "_qlx0Idet-K5"
      },
      "source": [
        "def generate_feat_labels_per_horizon(time_horizon, df, verbose=False):\n",
        "\n",
        "    # Get the feature and label to the prediction task \n",
        "    feature_mtx = rolling_window_mtx(df, time_horizon)[:-1]\n",
        "    label_mtx   = rolling_window_mtx(df[time_horizon:], 1)\n",
        "    index_mtx   = rolling_window_mtx(np.arange(len(df)), time_horizon)\n",
        "\n",
        "    if verbose:\n",
        "        # Now we have a set of windows of the real coordinate\n",
        "        # Lets take a look in one window\n",
        "        print(f\"\\n One feature window: \\n {feature_mtx[0]}\")\n",
        "        print(f\"\\n One label window: \\n {label_mtx[0]}\")\n",
        "        print(f\"\\n Original dataset: \\n {df[0:5]}\")\n",
        "\n",
        "    # For the classification task (if the gold values goes up or down)\n",
        "    # We need to get a window of size 2, and then calculate the difference\n",
        "    # If positive, the gold value went up.\n",
        "    class_label_mtx = rolling_window_mtx(df[time_horizon-1:], 2)\n",
        "    func = lambda x: True if x > 0 else False\n",
        "    class_func = np.vectorize(func)\n",
        "    class_label_mtx = class_func(np.diff(class_label_mtx).flatten()).reshape(len(class_label_mtx),1)\n",
        "   \n",
        "    if verbose:\n",
        "    \n",
        "        print(f\"\\n One window of class label (If tomorrow price is larger than today's price): \\n {class_label_mtx[0]}\")\n",
        "    \n",
        "    return feature_mtx, label_mtx, class_label_mtx"
      ],
      "execution_count": null,
      "outputs": []
    },
    {
      "cell_type": "code",
      "metadata": {
        "id": "V7KcEIlHt-K5"
      },
      "source": [
        "label_index_mtx = rolling_window_mtx(np.arange(len(df))[4:], 1)\n",
        "index_mtx   = rolling_window_mtx(np.arange(len(df)), 4)[:-1]"
      ],
      "execution_count": null,
      "outputs": []
    },
    {
      "cell_type": "code",
      "metadata": {
        "id": "txx98lFbt-K5",
        "colab": {
          "base_uri": "https://localhost:8080/"
        },
        "outputId": "f12952d5-c6b8-431b-c7b4-6706f8d565a5"
      },
      "source": [
        "train_idx = lastday_2017 - 4\n",
        "index_mtx[train_idx], label_index_mtx[train_idx]"
      ],
      "execution_count": null,
      "outputs": [
        {
          "output_type": "execute_result",
          "data": {
            "text/plain": [
              "(array([1003, 1004, 1005, 1006]), array([1007]))"
            ]
          },
          "metadata": {},
          "execution_count": 57
        }
      ]
    },
    {
      "cell_type": "markdown",
      "metadata": {
        "id": "UqOPwCNTt-K6"
      },
      "source": [
        "## Normalizing dataset"
      ]
    },
    {
      "cell_type": "code",
      "metadata": {
        "id": "y7_khhE4t-K6",
        "colab": {
          "base_uri": "https://localhost:8080/"
        },
        "outputId": "03e5e252-3acd-4688-a310-d959604ea835"
      },
      "source": [
        "df = df.reshape(len(df),1)\n",
        "scaler = MinMaxScaler(feature_range=(-1, 1))\n",
        "scaler.fit(df)\n",
        "df = df.flatten()\n",
        "df"
      ],
      "execution_count": null,
      "outputs": [
        {
          "output_type": "execute_result",
          "data": {
            "text/plain": [
              "array([7.08707235, 7.0936538 , 7.10799857, ..., 7.18841274, 7.18212409,\n",
              "       7.18182009])"
            ]
          },
          "metadata": {},
          "execution_count": 58
        }
      ]
    },
    {
      "cell_type": "markdown",
      "metadata": {
        "id": "eslwnt9mDen2"
      },
      "source": [
        "## Training the models for entries 4, 6 and 9 (days)"
      ]
    },
    {
      "cell_type": "code",
      "metadata": {
        "id": "tNqowxfRt-K6",
        "colab": {
          "base_uri": "https://localhost:8080/"
        },
        "outputId": "f15ef418-6eba-4030-83e5-c202e4b94e04"
      },
      "source": [
        "entries = [4, 6, 9]\n",
        "models = []\n",
        "labels = []\n",
        "history = []\n",
        "for entry in entries:\n",
        "    #Creating dataset\n",
        "    feature_mtx, label_mtx, class_label_mtx = generate_feat_labels_per_horizon(entry, df)\n",
        "    print(feature_mtx, label_mtx, class_label_mtx)\n",
        "    scaler_input = MinMaxScaler(feature_range=(-1, 1))\n",
        "    print(scaler_input)\n",
        "    scaler_input.fit(feature_mtx)\n",
        "    scaler_output = MinMaxScaler(feature_range=(-1, 1))\n",
        "    print(scaler_output)\n",
        "    scaler_output.fit(label_mtx)\n",
        "    train_idx = lastday_2017 - entry\n",
        "    train_x = feature_mtx[:train_idx]\n",
        "    train_y = label_mtx[:train_idx]\n",
        "    print(\"Training X shape: \",train_x.shape)\n",
        "    print(\"Training Y shape: \",train_y.shape)\n",
        "    tmp_labels, tmp_models = create_models(train_x.shape)#, scaler)\n",
        "    for i in range(len(tmp_models)):\n",
        "        print(tmp_labels[i])\n",
        "        tmp_models[i].fit(train_x, train_y)\n",
        "    models.append(tmp_models)\n",
        "    labels.append(tmp_labels)\n",
        "    print(\"\\n=========================================================================\\n\")"
      ],
      "execution_count": null,
      "outputs": [
        {
          "output_type": "stream",
          "name": "stdout",
          "text": [
            "[[7.08707235 7.0936538  7.10799857 7.11704332]\n",
            " [7.0936538  7.10799857 7.11704332 7.12230202]\n",
            " [7.10799857 7.11704332 7.12230202 7.11273486]\n",
            " ...\n",
            " [7.20682228 7.20228883 7.19593723 7.1902238 ]\n",
            " [7.20228883 7.19593723 7.1902238  7.18841274]\n",
            " [7.19593723 7.1902238  7.18841274 7.18212409]] [[7.12230202]\n",
            " [7.11273486]\n",
            " [7.11134901]\n",
            " ...\n",
            " [7.18841274]\n",
            " [7.18212409]\n",
            " [7.18182009]] [[ True]\n",
            " [False]\n",
            " [False]\n",
            " ...\n",
            " [False]\n",
            " [False]\n",
            " [False]]\n",
            "MinMaxScaler(feature_range=(-1, 1))\n",
            "MinMaxScaler(feature_range=(-1, 1))\n",
            "Training X shape:  (1003, 4)\n",
            "Training Y shape:  (1003, 1)\n",
            "SVR\n",
            "FFNN\n"
          ]
        },
        {
          "output_type": "stream",
          "name": "stderr",
          "text": [
            "/usr/local/lib/python3.7/dist-packages/sklearn/utils/validation.py:985: DataConversionWarning: A column-vector y was passed when a 1d array was expected. Please change the shape of y to (n_samples, ), for example using ravel().\n",
            "  y = column_or_1d(y, warn=True)\n"
          ]
        },
        {
          "output_type": "stream",
          "name": "stdout",
          "text": [
            "LSTM1\n",
            "LSTM2\n",
            "LSTM3\n",
            "LSTM4\n",
            "CNN-LSTM1\n",
            "CNN-LSTM2\n",
            "\n",
            "=========================================================================\n",
            "\n",
            "[[7.08707235 7.0936538  7.10799857 7.11704332 7.12230202 7.11273486]\n",
            " [7.0936538  7.10799857 7.11704332 7.12230202 7.11273486 7.11134901]\n",
            " [7.10799857 7.11704332 7.12230202 7.11273486 7.11134901 7.11882625]\n",
            " ...\n",
            " [7.20637729 7.20303343 7.20682228 7.20228883 7.19593723 7.1902238 ]\n",
            " [7.20303343 7.20682228 7.20228883 7.19593723 7.1902238  7.18841274]\n",
            " [7.20682228 7.20228883 7.19593723 7.1902238  7.18841274 7.18212409]] [[7.11134901]\n",
            " [7.11882625]\n",
            " [7.1313787 ]\n",
            " ...\n",
            " [7.18841274]\n",
            " [7.18212409]\n",
            " [7.18182009]] [[False]\n",
            " [ True]\n",
            " [ True]\n",
            " ...\n",
            " [False]\n",
            " [False]\n",
            " [False]]\n",
            "MinMaxScaler(feature_range=(-1, 1))\n",
            "MinMaxScaler(feature_range=(-1, 1))\n",
            "Training X shape:  (1001, 6)\n",
            "Training Y shape:  (1001, 1)\n",
            "SVR\n",
            "FFNN\n"
          ]
        },
        {
          "output_type": "stream",
          "name": "stderr",
          "text": [
            "/usr/local/lib/python3.7/dist-packages/sklearn/utils/validation.py:985: DataConversionWarning: A column-vector y was passed when a 1d array was expected. Please change the shape of y to (n_samples, ), for example using ravel().\n",
            "  y = column_or_1d(y, warn=True)\n"
          ]
        },
        {
          "output_type": "stream",
          "name": "stdout",
          "text": [
            "LSTM1\n",
            "LSTM2\n",
            "LSTM3\n",
            "LSTM4\n",
            "CNN-LSTM1\n",
            "CNN-LSTM2\n",
            "\n",
            "=========================================================================\n",
            "\n",
            "[[7.08707235 7.0936538  7.10799857 ... 7.11134901 7.11882625 7.1313787 ]\n",
            " [7.0936538  7.10799857 7.11704332 ... 7.11882625 7.1313787  7.13169851]\n",
            " [7.10799857 7.11704332 7.12230202 ... 7.1313787  7.13169851 7.12536352]\n",
            " ...\n",
            " [7.20874833 7.19736052 7.20117088 ... 7.20228883 7.19593723 7.1902238 ]\n",
            " [7.19736052 7.20117088 7.20637729 ... 7.19593723 7.1902238  7.18841274]\n",
            " [7.20117088 7.20637729 7.20303343 ... 7.1902238  7.18841274 7.18212409]] [[7.13169851]\n",
            " [7.12536352]\n",
            " [7.12230202]\n",
            " ...\n",
            " [7.18841274]\n",
            " [7.18212409]\n",
            " [7.18182009]] [[ True]\n",
            " [False]\n",
            " [False]\n",
            " ...\n",
            " [False]\n",
            " [False]\n",
            " [False]]\n",
            "MinMaxScaler(feature_range=(-1, 1))\n",
            "MinMaxScaler(feature_range=(-1, 1))\n",
            "Training X shape:  (998, 9)\n",
            "Training Y shape:  (998, 1)\n",
            "SVR\n",
            "FFNN\n"
          ]
        },
        {
          "output_type": "stream",
          "name": "stderr",
          "text": [
            "/usr/local/lib/python3.7/dist-packages/sklearn/utils/validation.py:985: DataConversionWarning: A column-vector y was passed when a 1d array was expected. Please change the shape of y to (n_samples, ), for example using ravel().\n",
            "  y = column_or_1d(y, warn=True)\n"
          ]
        },
        {
          "output_type": "stream",
          "name": "stdout",
          "text": [
            "LSTM1\n",
            "LSTM2\n",
            "LSTM3\n",
            "LSTM4\n",
            "CNN-LSTM1\n",
            "CNN-LSTM2\n",
            "\n",
            "=========================================================================\n",
            "\n"
          ]
        }
      ]
    },
    {
      "cell_type": "code",
      "metadata": {
        "id": "oomg0KGlt-K7",
        "colab": {
          "base_uri": "https://localhost:8080/"
        },
        "outputId": "43b35bd6-b516-4bb8-9954-e7bf5392796e"
      },
      "source": [
        "models = np.ravel(models)\n",
        "labels = np.ravel(labels)\n",
        "print(len(models))"
      ],
      "execution_count": null,
      "outputs": [
        {
          "output_type": "stream",
          "name": "stdout",
          "text": [
            "24\n"
          ]
        }
      ]
    },
    {
      "cell_type": "markdown",
      "metadata": {
        "id": "kHDn9rQhDXQZ"
      },
      "source": [
        "## Helper functions for prediction and Metrics"
      ]
    },
    {
      "cell_type": "code",
      "metadata": {
        "id": "8pS6PDdGt-K7"
      },
      "source": [
        "from sklearn.metrics import classification_report\n",
        "from sklearn.metrics import confusion_matrix\n",
        "import seaborn as sb\n",
        "\n",
        "def classification_pred(y):\n",
        "    preds = []\n",
        "    for i in range(1, len(y)):\n",
        "        last_y = y[i - 1]\n",
        "        curr_y = y[i]\n",
        "        preds.append(curr_y - last_y > 0.0 )\n",
        "    return np.array(preds)\n",
        "\n",
        "# Metric functions\n",
        "def get_metrics(y, pred_y):\n",
        "    y_classification = classification_pred(y)\n",
        "    y_pred_classification = classification_pred(pred_y)\n",
        "    \n",
        "    fpr, tpr, thresholds = roc_curve(y_classification, y_pred_classification)\n",
        "    auc_value = auc(fpr, tpr)\n",
        "\n",
        "    \n",
        "    tp = 0\n",
        "    tn = 0\n",
        "    fp = 0\n",
        "    fn = 0\n",
        "    \n",
        "    for i in range(len(y_classification)):\n",
        "        is_y_pred_up = y_pred_classification[i]\n",
        "        is_y_up = y_classification[i][0]\n",
        "\n",
        "        if is_y_pred_up and is_y_up:\n",
        "            tp += 1\n",
        "        elif is_y_pred_up and not is_y_up:\n",
        "            fp += 1\n",
        "        elif not is_y_pred_up and not is_y_up:\n",
        "            tn += 1\n",
        "        else:\n",
        "            fn += 1\n",
        "    print(\"Classification report\\n\",classification_report(y_classification, y_pred_classification))\n",
        "    return tp, tn, fp, fn, auc_value"
      ],
      "execution_count": null,
      "outputs": []
    },
    {
      "cell_type": "markdown",
      "metadata": {
        "id": "BN4PoG_LDQ-G"
      },
      "source": [
        "## List of metrics for all the models for entries 4, 6 and 9"
      ]
    },
    {
      "cell_type": "code",
      "metadata": {
        "id": "8aOSMOvCt-K8",
        "colab": {
          "base_uri": "https://localhost:8080/"
        },
        "outputId": "13791ca6-c336-4a45-9b9c-3b04ffc20049"
      },
      "source": [
        "# Testing models\n",
        "index_model = 0\n",
        "for entry in entries:\n",
        "    print (\"# Entries: \", entry)\n",
        "    feature_mtx, label_mtx, class_label_mtx = generate_feat_labels_per_horizon(entry, df)\n",
        "    scaler_input = MinMaxScaler(feature_range=(-1, 1))\n",
        "    scaler_input.fit(feature_mtx)\n",
        "    train_idx = lastday_2017 - entry\n",
        "    test_x = feature_mtx[train_idx:]\n",
        "    test_y = label_mtx[train_idx:]\n",
        "    \n",
        "    model_list = []\n",
        "    MAE_list = []\n",
        "    RMSE_list = []\n",
        "    ACC_list = []\n",
        "    AUC_list = []\n",
        "    SEN_list = []\n",
        "    SPE_list = []\n",
        "    \n",
        "    for i in range(index_model, index_model+8):\n",
        "        test_y_estimative = models[i].predict(test_x)\n",
        "        tp, tn, fp, fn, auc_value = get_metrics(test_y, test_y_estimative)\n",
        "        \n",
        "        model_list.append(labels[i])\n",
        "        MAE_list.append(mean_absolute_error(test_y, test_y_estimative))\n",
        "        RMSE_list.append(mean_squared_error(test_y, test_y_estimative, squared=True))\n",
        "        ACC_list.append(((tp + tn) / (tp + tn + fp + fn))*100)\n",
        "        AUC_list.append(auc_value)\n",
        "        SEN_list.append(tp / (tp + fn))\n",
        "        SPE_list.append(tn / (tn + fp))\n",
        "        \n",
        "    df_print = pd.DataFrame(list(zip(model_list, MAE_list,RMSE_list,ACC_list,AUC_list,SEN_list, SPE_list)),\n",
        "           columns =['Model', 'MAE', 'RMSE', 'ACC (%)', 'AUC', 'SPEN', 'SPE'])\n",
        "    df_print = df_print.sort_values(by=['ACC (%)'], ascending=False)\n",
        "    print(df_print)\n",
        "    print(\"\\n==============================================================================\\n\")\n",
        "        \n",
        "    index_model += 8"
      ],
      "execution_count": null,
      "outputs": [
        {
          "output_type": "stream",
          "name": "stdout",
          "text": [
            "# Entries:  4\n",
            "Classification report\n",
            "               precision    recall  f1-score   support\n",
            "\n",
            "       False       0.39      0.38      0.39        34\n",
            "        True       0.47      0.49      0.48        39\n",
            "\n",
            "    accuracy                           0.44        73\n",
            "   macro avg       0.43      0.43      0.43        73\n",
            "weighted avg       0.44      0.44      0.44        73\n",
            "\n",
            "Classification report\n",
            "               precision    recall  f1-score   support\n",
            "\n",
            "       False       0.40      0.41      0.41        34\n",
            "        True       0.47      0.46      0.47        39\n",
            "\n",
            "    accuracy                           0.44        73\n",
            "   macro avg       0.44      0.44      0.44        73\n",
            "weighted avg       0.44      0.44      0.44        73\n",
            "\n",
            "Classification report\n",
            "               precision    recall  f1-score   support\n",
            "\n",
            "       False       0.36      0.38      0.37        34\n",
            "        True       0.43      0.41      0.42        39\n",
            "\n",
            "    accuracy                           0.40        73\n",
            "   macro avg       0.40      0.40      0.40        73\n",
            "weighted avg       0.40      0.40      0.40        73\n",
            "\n",
            "Classification report\n",
            "               precision    recall  f1-score   support\n",
            "\n",
            "       False       0.33      0.35      0.34        34\n",
            "        True       0.41      0.38      0.39        39\n",
            "\n",
            "    accuracy                           0.37        73\n",
            "   macro avg       0.37      0.37      0.37        73\n",
            "weighted avg       0.37      0.37      0.37        73\n",
            "\n",
            "Classification report\n",
            "               precision    recall  f1-score   support\n",
            "\n",
            "       False       0.33      0.32      0.33        34\n",
            "        True       0.42      0.44      0.43        39\n",
            "\n",
            "    accuracy                           0.38        73\n",
            "   macro avg       0.38      0.38      0.38        73\n",
            "weighted avg       0.38      0.38      0.38        73\n",
            "\n",
            "Classification report\n",
            "               precision    recall  f1-score   support\n",
            "\n",
            "       False       0.38      0.35      0.36        34\n",
            "        True       0.46      0.49      0.48        39\n",
            "\n",
            "    accuracy                           0.42        73\n",
            "   macro avg       0.42      0.42      0.42        73\n",
            "weighted avg       0.42      0.42      0.42        73\n",
            "\n",
            "Classification report\n",
            "               precision    recall  f1-score   support\n",
            "\n",
            "       False       0.41      0.47      0.44        34\n",
            "        True       0.47      0.41      0.44        39\n",
            "\n",
            "    accuracy                           0.44        73\n",
            "   macro avg       0.44      0.44      0.44        73\n",
            "weighted avg       0.44      0.44      0.44        73\n",
            "\n",
            "Classification report\n",
            "               precision    recall  f1-score   support\n",
            "\n",
            "       False       0.41      0.47      0.44        34\n",
            "        True       0.47      0.41      0.44        39\n",
            "\n",
            "    accuracy                           0.44        73\n",
            "   macro avg       0.44      0.44      0.44        73\n",
            "weighted avg       0.44      0.44      0.44        73\n",
            "\n",
            "       Model       MAE      RMSE    ACC (%)       AUC      SPEN       SPE\n",
            "0        SVR  0.065454  0.004346  43.835616  0.434766  0.487179  0.382353\n",
            "1       FFNN  3.018049  9.108672  43.835616  0.436652  0.461538  0.411765\n",
            "6  CNN-LSTM1  0.064450  0.004224  43.835616  0.440422  0.410256  0.470588\n",
            "7  CNN-LSTM2  0.057434  0.003363  43.835616  0.440422  0.410256  0.470588\n",
            "5      LSTM4  0.069833  0.004958  42.465753  0.420060  0.487179  0.352941\n",
            "2      LSTM1  0.064933  0.004296  39.726027  0.396305  0.410256  0.382353\n",
            "4      LSTM3  0.075311  0.005755  38.356164  0.379713  0.435897  0.323529\n",
            "3      LSTM2  0.058633  0.003516  36.986301  0.368778  0.384615  0.352941\n",
            "\n",
            "==============================================================================\n",
            "\n",
            "# Entries:  6\n",
            "Classification report\n",
            "               precision    recall  f1-score   support\n",
            "\n",
            "       False       0.42      0.38      0.40        34\n",
            "        True       0.50      0.54      0.52        39\n",
            "\n",
            "    accuracy                           0.47        73\n",
            "   macro avg       0.46      0.46      0.46        73\n",
            "weighted avg       0.46      0.47      0.46        73\n",
            "\n",
            "Classification report\n",
            "               precision    recall  f1-score   support\n",
            "\n",
            "       False       0.43      0.47      0.45        34\n",
            "        True       0.50      0.46      0.48        39\n",
            "\n",
            "    accuracy                           0.47        73\n",
            "   macro avg       0.47      0.47      0.47        73\n",
            "weighted avg       0.47      0.47      0.47        73\n",
            "\n",
            "Classification report\n",
            "               precision    recall  f1-score   support\n",
            "\n",
            "       False       0.50      0.50      0.50        34\n",
            "        True       0.56      0.56      0.56        39\n",
            "\n",
            "    accuracy                           0.53        73\n",
            "   macro avg       0.53      0.53      0.53        73\n",
            "weighted avg       0.53      0.53      0.53        73\n",
            "\n",
            "Classification report\n",
            "               precision    recall  f1-score   support\n",
            "\n",
            "       False       0.52      0.47      0.49        34\n",
            "        True       0.57      0.62      0.59        39\n",
            "\n",
            "    accuracy                           0.55        73\n",
            "   macro avg       0.54      0.54      0.54        73\n",
            "weighted avg       0.55      0.55      0.55        73\n",
            "\n",
            "Classification report\n",
            "               precision    recall  f1-score   support\n",
            "\n",
            "       False       0.48      0.41      0.44        34\n",
            "        True       0.55      0.62      0.58        39\n",
            "\n",
            "    accuracy                           0.52        73\n",
            "   macro avg       0.51      0.51      0.51        73\n",
            "weighted avg       0.52      0.52      0.52        73\n",
            "\n",
            "Classification report\n",
            "               precision    recall  f1-score   support\n",
            "\n",
            "       False       0.47      0.44      0.45        34\n",
            "        True       0.54      0.56      0.55        39\n",
            "\n",
            "    accuracy                           0.51        73\n",
            "   macro avg       0.50      0.50      0.50        73\n",
            "weighted avg       0.50      0.51      0.51        73\n",
            "\n",
            "Classification report\n",
            "               precision    recall  f1-score   support\n",
            "\n",
            "       False       0.41      0.47      0.44        34\n",
            "        True       0.47      0.41      0.44        39\n",
            "\n",
            "    accuracy                           0.44        73\n",
            "   macro avg       0.44      0.44      0.44        73\n",
            "weighted avg       0.44      0.44      0.44        73\n",
            "\n",
            "Classification report\n",
            "               precision    recall  f1-score   support\n",
            "\n",
            "       False       0.38      0.44      0.41        34\n",
            "        True       0.44      0.38      0.41        39\n",
            "\n",
            "    accuracy                           0.41        73\n",
            "   macro avg       0.41      0.41      0.41        73\n",
            "weighted avg       0.41      0.41      0.41        73\n",
            "\n",
            "       Model       MAE      RMSE    ACC (%)       AUC      SPEN       SPE\n",
            "3      LSTM2  0.067590  0.004647  54.794521  0.542986  0.615385  0.470588\n",
            "2      LSTM1  0.075690  0.005813  53.424658  0.532051  0.564103  0.500000\n",
            "4      LSTM3  0.074039  0.005565  52.054795  0.513575  0.615385  0.411765\n",
            "5      LSTM4  0.079264  0.006366  50.684932  0.502640  0.564103  0.441176\n",
            "0        SVR  0.064272  0.004198  46.575342  0.460407  0.538462  0.382353\n",
            "1       FFNN  3.005516  9.033265  46.575342  0.466063  0.461538  0.470588\n",
            "6  CNN-LSTM1  0.059707  0.003635  43.835616  0.440422  0.410256  0.470588\n",
            "7  CNN-LSTM2  0.063534  0.004108  41.095890  0.412896  0.384615  0.441176\n",
            "\n",
            "==============================================================================\n",
            "\n",
            "# Entries:  9\n",
            "Classification report\n",
            "               precision    recall  f1-score   support\n",
            "\n",
            "       False       0.40      0.41      0.41        34\n",
            "        True       0.47      0.46      0.47        39\n",
            "\n",
            "    accuracy                           0.44        73\n",
            "   macro avg       0.44      0.44      0.44        73\n",
            "weighted avg       0.44      0.44      0.44        73\n",
            "\n",
            "Classification report\n",
            "               precision    recall  f1-score   support\n",
            "\n",
            "       False       0.50      0.50      0.50        34\n",
            "        True       0.56      0.56      0.56        39\n",
            "\n",
            "    accuracy                           0.53        73\n",
            "   macro avg       0.53      0.53      0.53        73\n",
            "weighted avg       0.53      0.53      0.53        73\n",
            "\n",
            "Classification report\n",
            "               precision    recall  f1-score   support\n",
            "\n",
            "       False       0.44      0.47      0.46        34\n",
            "        True       0.51      0.49      0.50        39\n",
            "\n",
            "    accuracy                           0.48        73\n",
            "   macro avg       0.48      0.48      0.48        73\n",
            "weighted avg       0.48      0.48      0.48        73\n",
            "\n",
            "Classification report\n",
            "               precision    recall  f1-score   support\n",
            "\n",
            "       False       0.32      0.35      0.34        34\n",
            "        True       0.39      0.36      0.37        39\n",
            "\n",
            "    accuracy                           0.36        73\n",
            "   macro avg       0.36      0.36      0.36        73\n",
            "weighted avg       0.36      0.36      0.36        73\n",
            "\n",
            "Classification report\n",
            "               precision    recall  f1-score   support\n",
            "\n",
            "       False       0.44      0.47      0.46        34\n",
            "        True       0.51      0.49      0.50        39\n",
            "\n",
            "    accuracy                           0.48        73\n",
            "   macro avg       0.48      0.48      0.48        73\n",
            "weighted avg       0.48      0.48      0.48        73\n",
            "\n",
            "Classification report\n",
            "               precision    recall  f1-score   support\n",
            "\n",
            "       False       0.36      0.38      0.37        34\n",
            "        True       0.43      0.41      0.42        39\n",
            "\n",
            "    accuracy                           0.40        73\n",
            "   macro avg       0.40      0.40      0.40        73\n",
            "weighted avg       0.40      0.40      0.40        73\n",
            "\n",
            "Classification report\n",
            "               precision    recall  f1-score   support\n",
            "\n",
            "       False       0.43      0.44      0.43        34\n",
            "        True       0.50      0.49      0.49        39\n",
            "\n",
            "    accuracy                           0.47        73\n",
            "   macro avg       0.46      0.46      0.46        73\n",
            "weighted avg       0.47      0.47      0.47        73\n",
            "\n",
            "Classification report\n",
            "               precision    recall  f1-score   support\n",
            "\n",
            "       False       0.43      0.38      0.41        34\n",
            "        True       0.51      0.56      0.54        39\n",
            "\n",
            "    accuracy                           0.48        73\n",
            "   macro avg       0.47      0.47      0.47        73\n",
            "weighted avg       0.48      0.48      0.48        73\n",
            "\n",
            "       Model       MAE      RMSE    ACC (%)       AUC      SPEN       SPE\n",
            "1       FFNN  0.346766  0.120660  53.424658  0.532051  0.564103  0.500000\n",
            "2      LSTM1  0.072042  0.005270  47.945205  0.478884  0.487179  0.470588\n",
            "4      LSTM3  0.077048  0.006019  47.945205  0.478884  0.487179  0.470588\n",
            "7  CNN-LSTM2  0.068630  0.004787  47.945205  0.473228  0.564103  0.382353\n",
            "6  CNN-LSTM1  0.068055  0.004706  46.575342  0.464178  0.487179  0.441176\n",
            "0        SVR  0.063515  0.004104  43.835616  0.436652  0.461538  0.411765\n",
            "5      LSTM4  0.078318  0.006217  39.726027  0.396305  0.410256  0.382353\n",
            "3      LSTM2  0.077180  0.006040  35.616438  0.355958  0.358974  0.352941\n",
            "\n",
            "==============================================================================\n",
            "\n"
          ]
        }
      ]
    },
    {
      "cell_type": "code",
      "metadata": {
        "id": "kd05UA-lt-K8",
        "colab": {
          "base_uri": "https://localhost:8080/"
        },
        "outputId": "a1b54d24-5839-4c6c-dc29-0692d161fbd7"
      },
      "source": [
        "model_list"
      ],
      "execution_count": null,
      "outputs": [
        {
          "output_type": "execute_result",
          "data": {
            "text/plain": [
              "['SVR', 'FFNN', 'LSTM1', 'LSTM2', 'LSTM3', 'LSTM4', 'CNN-LSTM1', 'CNN-LSTM2']"
            ]
          },
          "metadata": {},
          "execution_count": 82
        }
      ]
    },
    {
      "cell_type": "code",
      "metadata": {
        "id": "mjYQ6Su2DIi2"
      },
      "source": [
        ""
      ],
      "execution_count": null,
      "outputs": []
    }
  ]
}